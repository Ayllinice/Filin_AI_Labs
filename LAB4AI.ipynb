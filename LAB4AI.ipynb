{
  "cells": [
    {
      "cell_type": "markdown",
      "metadata": {
        "id": "view-in-github",
        "colab_type": "text"
      },
      "source": [
        "<a href=\"https://colab.research.google.com/github/Ayllinice/Filin_AI_Labs/blob/main/LAB4AI.ipynb\" target=\"_parent\"><img src=\"https://colab.research.google.com/assets/colab-badge.svg\" alt=\"Open In Colab\"/></a>"
      ]
    },
    {
      "cell_type": "markdown",
      "metadata": {
        "id": "uFwcE-kEzK18"
      },
      "source": [
        "# Лабораторная № 4\n",
        "### Филин Илья Александрович\n",
        "### БИВТ-22-СП-4"
      ]
    },
    {
      "cell_type": "code",
      "execution_count": null,
      "metadata": {
        "id": "i5G7uNH7P7dq"
      },
      "outputs": [],
      "source": [
        "import pandas as pd\n",
        "import numpy as np\n",
        "from sklearn.model_selection import train_test_split\n",
        "import matplotlib.pyplot as plt\n",
        "from sklearn.preprocessing import StandardScaler, MinMaxScaler\n",
        "from sklearn.preprocessing import LabelEncoder"
      ]
    },
    {
      "cell_type": "markdown",
      "metadata": {
        "id": "RN-y1ApA2DBw"
      },
      "source": [
        "1."
      ]
    },
    {
      "cell_type": "code",
      "execution_count": null,
      "metadata": {
        "id": "My-90NgqP8RC"
      },
      "outputs": [],
      "source": [
        "data = pd.read_csv('/content/drive/MyDrive/Sleep_health_and_lifestyle_dataset.csv', sep=',')"
      ]
    },
    {
      "cell_type": "code",
      "execution_count": null,
      "metadata": {
        "colab": {
          "base_uri": "https://localhost:8080/",
          "height": 491
        },
        "id": "FWX3e5t22TF_",
        "outputId": "ef6a6531-2c0b-417b-fdae-141fcdac2e42"
      },
      "outputs": [
        {
          "data": {
            "text/html": [
              "<div>\n",
              "<style scoped>\n",
              "    .dataframe tbody tr th:only-of-type {\n",
              "        vertical-align: middle;\n",
              "    }\n",
              "\n",
              "    .dataframe tbody tr th {\n",
              "        vertical-align: top;\n",
              "    }\n",
              "\n",
              "    .dataframe thead th {\n",
              "        text-align: right;\n",
              "    }\n",
              "</style>\n",
              "<table border=\"1\" class=\"dataframe\">\n",
              "  <thead>\n",
              "    <tr style=\"text-align: right;\">\n",
              "      <th></th>\n",
              "      <th>0</th>\n",
              "    </tr>\n",
              "  </thead>\n",
              "  <tbody>\n",
              "    <tr>\n",
              "      <th>Person ID</th>\n",
              "      <td>0</td>\n",
              "    </tr>\n",
              "    <tr>\n",
              "      <th>Gender</th>\n",
              "      <td>0</td>\n",
              "    </tr>\n",
              "    <tr>\n",
              "      <th>Age</th>\n",
              "      <td>0</td>\n",
              "    </tr>\n",
              "    <tr>\n",
              "      <th>Occupation</th>\n",
              "      <td>0</td>\n",
              "    </tr>\n",
              "    <tr>\n",
              "      <th>Sleep Duration</th>\n",
              "      <td>0</td>\n",
              "    </tr>\n",
              "    <tr>\n",
              "      <th>Quality of Sleep</th>\n",
              "      <td>0</td>\n",
              "    </tr>\n",
              "    <tr>\n",
              "      <th>Physical Activity Level</th>\n",
              "      <td>0</td>\n",
              "    </tr>\n",
              "    <tr>\n",
              "      <th>Stress Level</th>\n",
              "      <td>0</td>\n",
              "    </tr>\n",
              "    <tr>\n",
              "      <th>BMI Category</th>\n",
              "      <td>0</td>\n",
              "    </tr>\n",
              "    <tr>\n",
              "      <th>Blood Pressure</th>\n",
              "      <td>0</td>\n",
              "    </tr>\n",
              "    <tr>\n",
              "      <th>Heart Rate</th>\n",
              "      <td>0</td>\n",
              "    </tr>\n",
              "    <tr>\n",
              "      <th>Daily Steps</th>\n",
              "      <td>0</td>\n",
              "    </tr>\n",
              "    <tr>\n",
              "      <th>Sleep Disorder</th>\n",
              "      <td>219</td>\n",
              "    </tr>\n",
              "  </tbody>\n",
              "</table>\n",
              "</div><br><label><b>dtype:</b> int64</label>"
            ],
            "text/plain": [
              "Person ID                    0\n",
              "Gender                       0\n",
              "Age                          0\n",
              "Occupation                   0\n",
              "Sleep Duration               0\n",
              "Quality of Sleep             0\n",
              "Physical Activity Level      0\n",
              "Stress Level                 0\n",
              "BMI Category                 0\n",
              "Blood Pressure               0\n",
              "Heart Rate                   0\n",
              "Daily Steps                  0\n",
              "Sleep Disorder             219\n",
              "dtype: int64"
            ]
          },
          "execution_count": 36,
          "metadata": {},
          "output_type": "execute_result"
        }
      ],
      "source": [
        "missing_values = data.isnull().sum()\n",
        "missing_values"
      ]
    },
    {
      "cell_type": "code",
      "execution_count": null,
      "metadata": {
        "id": "Ltu9Heuj2jS0"
      },
      "outputs": [],
      "source": [
        "data.fillna({\"Sleep Disorder\":\"No problems\"},inplace=True)"
      ]
    },
    {
      "cell_type": "code",
      "execution_count": null,
      "metadata": {
        "colab": {
          "base_uri": "https://localhost:8080/",
          "height": 258
        },
        "id": "mzSxEyh73ZUn",
        "outputId": "c16722ec-b941-4808-9339-62c5099b2a44"
      },
      "outputs": [
        {
          "data": {
            "application/vnd.google.colaboratory.intrinsic+json": {
              "summary": "{\n  \"name\": \"data\",\n  \"rows\": 374,\n  \"fields\": [\n    {\n      \"column\": \"Person ID\",\n      \"properties\": {\n        \"dtype\": \"number\",\n        \"std\": 108,\n        \"min\": 1,\n        \"max\": 374,\n        \"num_unique_values\": 374,\n        \"samples\": [\n          330,\n          34,\n          16\n        ],\n        \"semantic_type\": \"\",\n        \"description\": \"\"\n      }\n    },\n    {\n      \"column\": \"Gender\",\n      \"properties\": {\n        \"dtype\": \"category\",\n        \"num_unique_values\": 2,\n        \"samples\": [\n          \"Female\",\n          \"Male\"\n        ],\n        \"semantic_type\": \"\",\n        \"description\": \"\"\n      }\n    },\n    {\n      \"column\": \"Age\",\n      \"properties\": {\n        \"dtype\": \"number\",\n        \"std\": 8,\n        \"min\": 27,\n        \"max\": 59,\n        \"num_unique_values\": 31,\n        \"samples\": [\n          56,\n          42\n        ],\n        \"semantic_type\": \"\",\n        \"description\": \"\"\n      }\n    },\n    {\n      \"column\": \"Occupation\",\n      \"properties\": {\n        \"dtype\": \"category\",\n        \"num_unique_values\": 11,\n        \"samples\": [\n          \"Engineer\",\n          \"Software Engineer\"\n        ],\n        \"semantic_type\": \"\",\n        \"description\": \"\"\n      }\n    },\n    {\n      \"column\": \"Sleep Duration\",\n      \"properties\": {\n        \"dtype\": \"number\",\n        \"std\": 0.7956567308898188,\n        \"min\": 5.8,\n        \"max\": 8.5,\n        \"num_unique_values\": 27,\n        \"samples\": [\n          7.7,\n          5.8\n        ],\n        \"semantic_type\": \"\",\n        \"description\": \"\"\n      }\n    },\n    {\n      \"column\": \"Quality of Sleep\",\n      \"properties\": {\n        \"dtype\": \"number\",\n        \"std\": 1,\n        \"min\": 4,\n        \"max\": 9,\n        \"num_unique_values\": 6,\n        \"samples\": [\n          6,\n          4\n        ],\n        \"semantic_type\": \"\",\n        \"description\": \"\"\n      }\n    },\n    {\n      \"column\": \"Physical Activity Level\",\n      \"properties\": {\n        \"dtype\": \"number\",\n        \"std\": 20,\n        \"min\": 30,\n        \"max\": 90,\n        \"num_unique_values\": 16,\n        \"samples\": [\n          42,\n          60\n        ],\n        \"semantic_type\": \"\",\n        \"description\": \"\"\n      }\n    },\n    {\n      \"column\": \"Stress Level\",\n      \"properties\": {\n        \"dtype\": \"number\",\n        \"std\": 1,\n        \"min\": 3,\n        \"max\": 8,\n        \"num_unique_values\": 6,\n        \"samples\": [\n          6,\n          8\n        ],\n        \"semantic_type\": \"\",\n        \"description\": \"\"\n      }\n    },\n    {\n      \"column\": \"BMI Category\",\n      \"properties\": {\n        \"dtype\": \"category\",\n        \"num_unique_values\": 4,\n        \"samples\": [\n          \"Normal\",\n          \"Normal Weight\"\n        ],\n        \"semantic_type\": \"\",\n        \"description\": \"\"\n      }\n    },\n    {\n      \"column\": \"Blood Pressure\",\n      \"properties\": {\n        \"dtype\": \"category\",\n        \"num_unique_values\": 25,\n        \"samples\": [\n          \"128/85\",\n          \"119/77\"\n        ],\n        \"semantic_type\": \"\",\n        \"description\": \"\"\n      }\n    },\n    {\n      \"column\": \"Heart Rate\",\n      \"properties\": {\n        \"dtype\": \"number\",\n        \"std\": 4,\n        \"min\": 65,\n        \"max\": 86,\n        \"num_unique_values\": 19,\n        \"samples\": [\n          77,\n          80\n        ],\n        \"semantic_type\": \"\",\n        \"description\": \"\"\n      }\n    },\n    {\n      \"column\": \"Daily Steps\",\n      \"properties\": {\n        \"dtype\": \"number\",\n        \"std\": 1617,\n        \"min\": 3000,\n        \"max\": 10000,\n        \"num_unique_values\": 20,\n        \"samples\": [\n          4200,\n          6200\n        ],\n        \"semantic_type\": \"\",\n        \"description\": \"\"\n      }\n    },\n    {\n      \"column\": \"Sleep Disorder\",\n      \"properties\": {\n        \"dtype\": \"category\",\n        \"num_unique_values\": 3,\n        \"samples\": [\n          \"No problems\",\n          \"Sleep Apnea\"\n        ],\n        \"semantic_type\": \"\",\n        \"description\": \"\"\n      }\n    }\n  ]\n}",
              "type": "dataframe",
              "variable_name": "data"
            },
            "text/html": [
              "\n",
              "  <div id=\"df-0d5245d3-b41f-41da-b455-3ac880769141\" class=\"colab-df-container\">\n",
              "    <div>\n",
              "<style scoped>\n",
              "    .dataframe tbody tr th:only-of-type {\n",
              "        vertical-align: middle;\n",
              "    }\n",
              "\n",
              "    .dataframe tbody tr th {\n",
              "        vertical-align: top;\n",
              "    }\n",
              "\n",
              "    .dataframe thead th {\n",
              "        text-align: right;\n",
              "    }\n",
              "</style>\n",
              "<table border=\"1\" class=\"dataframe\">\n",
              "  <thead>\n",
              "    <tr style=\"text-align: right;\">\n",
              "      <th></th>\n",
              "      <th>Person ID</th>\n",
              "      <th>Gender</th>\n",
              "      <th>Age</th>\n",
              "      <th>Occupation</th>\n",
              "      <th>Sleep Duration</th>\n",
              "      <th>Quality of Sleep</th>\n",
              "      <th>Physical Activity Level</th>\n",
              "      <th>Stress Level</th>\n",
              "      <th>BMI Category</th>\n",
              "      <th>Blood Pressure</th>\n",
              "      <th>Heart Rate</th>\n",
              "      <th>Daily Steps</th>\n",
              "      <th>Sleep Disorder</th>\n",
              "    </tr>\n",
              "  </thead>\n",
              "  <tbody>\n",
              "    <tr>\n",
              "      <th>0</th>\n",
              "      <td>1</td>\n",
              "      <td>Male</td>\n",
              "      <td>27</td>\n",
              "      <td>Software Engineer</td>\n",
              "      <td>6.1</td>\n",
              "      <td>6</td>\n",
              "      <td>42</td>\n",
              "      <td>6</td>\n",
              "      <td>Overweight</td>\n",
              "      <td>126/83</td>\n",
              "      <td>77</td>\n",
              "      <td>4200</td>\n",
              "      <td>No problems</td>\n",
              "    </tr>\n",
              "    <tr>\n",
              "      <th>1</th>\n",
              "      <td>2</td>\n",
              "      <td>Male</td>\n",
              "      <td>28</td>\n",
              "      <td>Doctor</td>\n",
              "      <td>6.2</td>\n",
              "      <td>6</td>\n",
              "      <td>60</td>\n",
              "      <td>8</td>\n",
              "      <td>Normal</td>\n",
              "      <td>125/80</td>\n",
              "      <td>75</td>\n",
              "      <td>10000</td>\n",
              "      <td>No problems</td>\n",
              "    </tr>\n",
              "    <tr>\n",
              "      <th>2</th>\n",
              "      <td>3</td>\n",
              "      <td>Male</td>\n",
              "      <td>28</td>\n",
              "      <td>Doctor</td>\n",
              "      <td>6.2</td>\n",
              "      <td>6</td>\n",
              "      <td>60</td>\n",
              "      <td>8</td>\n",
              "      <td>Normal</td>\n",
              "      <td>125/80</td>\n",
              "      <td>75</td>\n",
              "      <td>10000</td>\n",
              "      <td>No problems</td>\n",
              "    </tr>\n",
              "    <tr>\n",
              "      <th>3</th>\n",
              "      <td>4</td>\n",
              "      <td>Male</td>\n",
              "      <td>28</td>\n",
              "      <td>Sales Representative</td>\n",
              "      <td>5.9</td>\n",
              "      <td>4</td>\n",
              "      <td>30</td>\n",
              "      <td>8</td>\n",
              "      <td>Obese</td>\n",
              "      <td>140/90</td>\n",
              "      <td>85</td>\n",
              "      <td>3000</td>\n",
              "      <td>Sleep Apnea</td>\n",
              "    </tr>\n",
              "    <tr>\n",
              "      <th>4</th>\n",
              "      <td>5</td>\n",
              "      <td>Male</td>\n",
              "      <td>28</td>\n",
              "      <td>Sales Representative</td>\n",
              "      <td>5.9</td>\n",
              "      <td>4</td>\n",
              "      <td>30</td>\n",
              "      <td>8</td>\n",
              "      <td>Obese</td>\n",
              "      <td>140/90</td>\n",
              "      <td>85</td>\n",
              "      <td>3000</td>\n",
              "      <td>Sleep Apnea</td>\n",
              "    </tr>\n",
              "  </tbody>\n",
              "</table>\n",
              "</div>\n",
              "    <div class=\"colab-df-buttons\">\n",
              "\n",
              "  <div class=\"colab-df-container\">\n",
              "    <button class=\"colab-df-convert\" onclick=\"convertToInteractive('df-0d5245d3-b41f-41da-b455-3ac880769141')\"\n",
              "            title=\"Convert this dataframe to an interactive table.\"\n",
              "            style=\"display:none;\">\n",
              "\n",
              "  <svg xmlns=\"http://www.w3.org/2000/svg\" height=\"24px\" viewBox=\"0 -960 960 960\">\n",
              "    <path d=\"M120-120v-720h720v720H120Zm60-500h600v-160H180v160Zm220 220h160v-160H400v160Zm0 220h160v-160H400v160ZM180-400h160v-160H180v160Zm440 0h160v-160H620v160ZM180-180h160v-160H180v160Zm440 0h160v-160H620v160Z\"/>\n",
              "  </svg>\n",
              "    </button>\n",
              "\n",
              "  <style>\n",
              "    .colab-df-container {\n",
              "      display:flex;\n",
              "      gap: 12px;\n",
              "    }\n",
              "\n",
              "    .colab-df-convert {\n",
              "      background-color: #E8F0FE;\n",
              "      border: none;\n",
              "      border-radius: 50%;\n",
              "      cursor: pointer;\n",
              "      display: none;\n",
              "      fill: #1967D2;\n",
              "      height: 32px;\n",
              "      padding: 0 0 0 0;\n",
              "      width: 32px;\n",
              "    }\n",
              "\n",
              "    .colab-df-convert:hover {\n",
              "      background-color: #E2EBFA;\n",
              "      box-shadow: 0px 1px 2px rgba(60, 64, 67, 0.3), 0px 1px 3px 1px rgba(60, 64, 67, 0.15);\n",
              "      fill: #174EA6;\n",
              "    }\n",
              "\n",
              "    .colab-df-buttons div {\n",
              "      margin-bottom: 4px;\n",
              "    }\n",
              "\n",
              "    [theme=dark] .colab-df-convert {\n",
              "      background-color: #3B4455;\n",
              "      fill: #D2E3FC;\n",
              "    }\n",
              "\n",
              "    [theme=dark] .colab-df-convert:hover {\n",
              "      background-color: #434B5C;\n",
              "      box-shadow: 0px 1px 3px 1px rgba(0, 0, 0, 0.15);\n",
              "      filter: drop-shadow(0px 1px 2px rgba(0, 0, 0, 0.3));\n",
              "      fill: #FFFFFF;\n",
              "    }\n",
              "  </style>\n",
              "\n",
              "    <script>\n",
              "      const buttonEl =\n",
              "        document.querySelector('#df-0d5245d3-b41f-41da-b455-3ac880769141 button.colab-df-convert');\n",
              "      buttonEl.style.display =\n",
              "        google.colab.kernel.accessAllowed ? 'block' : 'none';\n",
              "\n",
              "      async function convertToInteractive(key) {\n",
              "        const element = document.querySelector('#df-0d5245d3-b41f-41da-b455-3ac880769141');\n",
              "        const dataTable =\n",
              "          await google.colab.kernel.invokeFunction('convertToInteractive',\n",
              "                                                    [key], {});\n",
              "        if (!dataTable) return;\n",
              "\n",
              "        const docLinkHtml = 'Like what you see? Visit the ' +\n",
              "          '<a target=\"_blank\" href=https://colab.research.google.com/notebooks/data_table.ipynb>data table notebook</a>'\n",
              "          + ' to learn more about interactive tables.';\n",
              "        element.innerHTML = '';\n",
              "        dataTable['output_type'] = 'display_data';\n",
              "        await google.colab.output.renderOutput(dataTable, element);\n",
              "        const docLink = document.createElement('div');\n",
              "        docLink.innerHTML = docLinkHtml;\n",
              "        element.appendChild(docLink);\n",
              "      }\n",
              "    </script>\n",
              "  </div>\n",
              "\n",
              "\n",
              "<div id=\"df-c80b4623-fc26-4883-8d0a-17e50513ea56\">\n",
              "  <button class=\"colab-df-quickchart\" onclick=\"quickchart('df-c80b4623-fc26-4883-8d0a-17e50513ea56')\"\n",
              "            title=\"Suggest charts\"\n",
              "            style=\"display:none;\">\n",
              "\n",
              "<svg xmlns=\"http://www.w3.org/2000/svg\" height=\"24px\"viewBox=\"0 0 24 24\"\n",
              "     width=\"24px\">\n",
              "    <g>\n",
              "        <path d=\"M19 3H5c-1.1 0-2 .9-2 2v14c0 1.1.9 2 2 2h14c1.1 0 2-.9 2-2V5c0-1.1-.9-2-2-2zM9 17H7v-7h2v7zm4 0h-2V7h2v10zm4 0h-2v-4h2v4z\"/>\n",
              "    </g>\n",
              "</svg>\n",
              "  </button>\n",
              "\n",
              "<style>\n",
              "  .colab-df-quickchart {\n",
              "      --bg-color: #E8F0FE;\n",
              "      --fill-color: #1967D2;\n",
              "      --hover-bg-color: #E2EBFA;\n",
              "      --hover-fill-color: #174EA6;\n",
              "      --disabled-fill-color: #AAA;\n",
              "      --disabled-bg-color: #DDD;\n",
              "  }\n",
              "\n",
              "  [theme=dark] .colab-df-quickchart {\n",
              "      --bg-color: #3B4455;\n",
              "      --fill-color: #D2E3FC;\n",
              "      --hover-bg-color: #434B5C;\n",
              "      --hover-fill-color: #FFFFFF;\n",
              "      --disabled-bg-color: #3B4455;\n",
              "      --disabled-fill-color: #666;\n",
              "  }\n",
              "\n",
              "  .colab-df-quickchart {\n",
              "    background-color: var(--bg-color);\n",
              "    border: none;\n",
              "    border-radius: 50%;\n",
              "    cursor: pointer;\n",
              "    display: none;\n",
              "    fill: var(--fill-color);\n",
              "    height: 32px;\n",
              "    padding: 0;\n",
              "    width: 32px;\n",
              "  }\n",
              "\n",
              "  .colab-df-quickchart:hover {\n",
              "    background-color: var(--hover-bg-color);\n",
              "    box-shadow: 0 1px 2px rgba(60, 64, 67, 0.3), 0 1px 3px 1px rgba(60, 64, 67, 0.15);\n",
              "    fill: var(--button-hover-fill-color);\n",
              "  }\n",
              "\n",
              "  .colab-df-quickchart-complete:disabled,\n",
              "  .colab-df-quickchart-complete:disabled:hover {\n",
              "    background-color: var(--disabled-bg-color);\n",
              "    fill: var(--disabled-fill-color);\n",
              "    box-shadow: none;\n",
              "  }\n",
              "\n",
              "  .colab-df-spinner {\n",
              "    border: 2px solid var(--fill-color);\n",
              "    border-color: transparent;\n",
              "    border-bottom-color: var(--fill-color);\n",
              "    animation:\n",
              "      spin 1s steps(1) infinite;\n",
              "  }\n",
              "\n",
              "  @keyframes spin {\n",
              "    0% {\n",
              "      border-color: transparent;\n",
              "      border-bottom-color: var(--fill-color);\n",
              "      border-left-color: var(--fill-color);\n",
              "    }\n",
              "    20% {\n",
              "      border-color: transparent;\n",
              "      border-left-color: var(--fill-color);\n",
              "      border-top-color: var(--fill-color);\n",
              "    }\n",
              "    30% {\n",
              "      border-color: transparent;\n",
              "      border-left-color: var(--fill-color);\n",
              "      border-top-color: var(--fill-color);\n",
              "      border-right-color: var(--fill-color);\n",
              "    }\n",
              "    40% {\n",
              "      border-color: transparent;\n",
              "      border-right-color: var(--fill-color);\n",
              "      border-top-color: var(--fill-color);\n",
              "    }\n",
              "    60% {\n",
              "      border-color: transparent;\n",
              "      border-right-color: var(--fill-color);\n",
              "    }\n",
              "    80% {\n",
              "      border-color: transparent;\n",
              "      border-right-color: var(--fill-color);\n",
              "      border-bottom-color: var(--fill-color);\n",
              "    }\n",
              "    90% {\n",
              "      border-color: transparent;\n",
              "      border-bottom-color: var(--fill-color);\n",
              "    }\n",
              "  }\n",
              "</style>\n",
              "\n",
              "  <script>\n",
              "    async function quickchart(key) {\n",
              "      const quickchartButtonEl =\n",
              "        document.querySelector('#' + key + ' button');\n",
              "      quickchartButtonEl.disabled = true;  // To prevent multiple clicks.\n",
              "      quickchartButtonEl.classList.add('colab-df-spinner');\n",
              "      try {\n",
              "        const charts = await google.colab.kernel.invokeFunction(\n",
              "            'suggestCharts', [key], {});\n",
              "      } catch (error) {\n",
              "        console.error('Error during call to suggestCharts:', error);\n",
              "      }\n",
              "      quickchartButtonEl.classList.remove('colab-df-spinner');\n",
              "      quickchartButtonEl.classList.add('colab-df-quickchart-complete');\n",
              "    }\n",
              "    (() => {\n",
              "      let quickchartButtonEl =\n",
              "        document.querySelector('#df-c80b4623-fc26-4883-8d0a-17e50513ea56 button');\n",
              "      quickchartButtonEl.style.display =\n",
              "        google.colab.kernel.accessAllowed ? 'block' : 'none';\n",
              "    })();\n",
              "  </script>\n",
              "</div>\n",
              "\n",
              "    </div>\n",
              "  </div>\n"
            ],
            "text/plain": [
              "   Person ID Gender  Age            Occupation  Sleep Duration  \\\n",
              "0          1   Male   27     Software Engineer             6.1   \n",
              "1          2   Male   28                Doctor             6.2   \n",
              "2          3   Male   28                Doctor             6.2   \n",
              "3          4   Male   28  Sales Representative             5.9   \n",
              "4          5   Male   28  Sales Representative             5.9   \n",
              "\n",
              "   Quality of Sleep  Physical Activity Level  Stress Level BMI Category  \\\n",
              "0                 6                       42             6   Overweight   \n",
              "1                 6                       60             8       Normal   \n",
              "2                 6                       60             8       Normal   \n",
              "3                 4                       30             8        Obese   \n",
              "4                 4                       30             8        Obese   \n",
              "\n",
              "  Blood Pressure  Heart Rate  Daily Steps Sleep Disorder  \n",
              "0         126/83          77         4200    No problems  \n",
              "1         125/80          75        10000    No problems  \n",
              "2         125/80          75        10000    No problems  \n",
              "3         140/90          85         3000    Sleep Apnea  \n",
              "4         140/90          85         3000    Sleep Apnea  "
            ]
          },
          "execution_count": 38,
          "metadata": {},
          "output_type": "execute_result"
        }
      ],
      "source": [
        "data.head()"
      ]
    },
    {
      "cell_type": "markdown",
      "metadata": {
        "id": "S9REfgZU3ak3"
      },
      "source": [
        "2. Определение задачи"
      ]
    },
    {
      "cell_type": "markdown",
      "metadata": {
        "id": "IwhnLEPy3mZZ"
      },
      "source": [
        "Это задача многоклассовой классификации, так как целевая переменная принимает категориальные значения, а не является числовым или непрервным значением."
      ]
    },
    {
      "cell_type": "markdown",
      "metadata": {
        "id": "JuqiT02a3q3m"
      },
      "source": [
        "3. Предобработка данных"
      ]
    },
    {
      "cell_type": "markdown",
      "metadata": {
        "id": "F_451l003swR"
      },
      "source": [
        "Поле Blood Pressure имеет тип данных object. Его значения сильно разнятся, лучше сделать классификацию по давлению у людей."
      ]
    },
    {
      "cell_type": "code",
      "execution_count": null,
      "metadata": {
        "id": "0036G2IwP8Y2"
      },
      "outputs": [],
      "source": [
        "def categorize_bp(bp):\n",
        "    systolic, diastolic = map(int, bp.split('/'))\n",
        "    if systolic < 120 and diastolic < 80:\n",
        "        return \"Normal\"\n",
        "    elif 120 <= systolic < 130 and diastolic < 80:\n",
        "        return \"Elevated\"\n",
        "    elif 130 <= systolic < 140 or 80 <= diastolic < 90:\n",
        "        return \"Hypertension Stage 1\"\n",
        "    else:\n",
        "        return \"Hypertension Stage 2\"\n",
        "\n",
        "data['BP_Category'] = data['Blood Pressure'].apply(categorize_bp)"
      ]
    },
    {
      "cell_type": "code",
      "execution_count": null,
      "metadata": {
        "id": "4v6Q0wiNBJHE"
      },
      "outputs": [],
      "source": [
        "data['Sleep Disorder'] = LabelEncoder().fit_transform(data['Sleep Disorder'])"
      ]
    },
    {
      "cell_type": "markdown",
      "metadata": {
        "id": "A_PZYg-u39td"
      },
      "source": [
        "Разделение X и Y"
      ]
    },
    {
      "cell_type": "code",
      "execution_count": null,
      "metadata": {
        "id": "iBEBCZUkP8cr"
      },
      "outputs": [],
      "source": [
        "X=data.drop(['Sleep Disorder','Person ID','Blood Pressure'], axis=1)"
      ]
    },
    {
      "cell_type": "code",
      "execution_count": null,
      "metadata": {
        "id": "lszhdUHUP8fo"
      },
      "outputs": [],
      "source": [
        "Y=data['Sleep Disorder']"
      ]
    },
    {
      "cell_type": "markdown",
      "metadata": {
        "id": "Z3h4VlMr4L30"
      },
      "source": [
        "Разделение данных на train и test. В отношение 80 на 20."
      ]
    },
    {
      "cell_type": "code",
      "execution_count": null,
      "metadata": {
        "id": "efrW6tZiP8iP"
      },
      "outputs": [],
      "source": [
        "X_train, X_test, y_train, y_test = train_test_split(X, Y, test_size=0.2, random_state=17)"
      ]
    },
    {
      "cell_type": "markdown",
      "metadata": {
        "id": "9U52BMaX4Ofe"
      },
      "source": [
        "Нормировка численных переменных"
      ]
    },
    {
      "cell_type": "code",
      "execution_count": null,
      "metadata": {
        "id": "Q__aSMXNP8ke"
      },
      "outputs": [],
      "source": [
        "standard_columns=['Age','Heart Rate']\n",
        "minmax_columns=['Sleep Duration','Quality of Sleep','Physical Activity Level','Stress Level','Daily Steps']\n",
        "X_train_mixed_scaling = X_train.copy()\n",
        "X_train_mixed_scaling[standard_columns] = StandardScaler().fit_transform(X_train_mixed_scaling[standard_columns])\n",
        "X_train_mixed_scaling[minmax_columns] = MinMaxScaler().fit_transform(X_train_mixed_scaling[minmax_columns])\n",
        "X_train=X_train_mixed_scaling.copy()"
      ]
    },
    {
      "cell_type": "code",
      "execution_count": null,
      "metadata": {
        "id": "KQbOuutRP8mo"
      },
      "outputs": [],
      "source": [
        "standard_columns=['Age','Heart Rate']\n",
        "minmax_columns=['Sleep Duration','Quality of Sleep','Physical Activity Level','Stress Level','Daily Steps']\n",
        "X_test_mixed_scaling = X_test.copy()\n",
        "X_test_mixed_scaling[standard_columns] = StandardScaler().fit_transform(X_test_mixed_scaling[standard_columns])\n",
        "X_test_mixed_scaling[minmax_columns] = MinMaxScaler().fit_transform(X_test_mixed_scaling[minmax_columns])\n",
        "X_test=X_test_mixed_scaling.copy()"
      ]
    },
    {
      "cell_type": "markdown",
      "metadata": {
        "id": "EcE0EIAg4PvR"
      },
      "source": [
        "Кодирование категориальных признаков"
      ]
    },
    {
      "cell_type": "code",
      "execution_count": null,
      "metadata": {
        "id": "Gge_dyctQYwL"
      },
      "outputs": [],
      "source": [
        "X_train['Gender'] = LabelEncoder().fit_transform(X_train['Gender'])\n",
        "X_test['Gender'] = LabelEncoder().fit_transform(X_test['Gender'])\n",
        "X_train['Occupation'] = LabelEncoder().fit_transform(X_train['Occupation'])\n",
        "X_test['Occupation'] = LabelEncoder().fit_transform(X_test['Occupation'])\n",
        "X_train['BMI Category'] = LabelEncoder().fit_transform(X_train['BMI Category'])\n",
        "X_test['BMI Category'] = LabelEncoder().fit_transform(X_test['BMI Category'])\n",
        "X_train['BP_Category'] = LabelEncoder().fit_transform(X_train['BP_Category'])\n",
        "X_test['BP_Category'] = LabelEncoder().fit_transform(X_test['BP_Category'])"
      ]
    },
    {
      "cell_type": "code",
      "execution_count": null,
      "metadata": {
        "colab": {
          "base_uri": "https://localhost:8080/"
        },
        "id": "SgXSXPeu_HJV",
        "outputId": "5b94412c-14a4-44d5-8a32-fb88c970fa81"
      },
      "outputs": [
        {
          "name": "stdout",
          "output_type": "stream",
          "text": [
            "<class 'pandas.core.series.Series'>\n",
            "Index: 299 entries, 231 to 111\n",
            "Series name: Sleep Disorder\n",
            "Non-Null Count  Dtype\n",
            "--------------  -----\n",
            "299 non-null    int64\n",
            "dtypes: int64(1)\n",
            "memory usage: 4.7 KB\n"
          ]
        }
      ],
      "source": [
        "y_train.info()"
      ]
    },
    {
      "cell_type": "markdown",
      "metadata": {
        "id": "ZhRbRdNe4Wzh"
      },
      "source": [
        "4. Оформить данные в виде класса Dataset из библиотеки torch (как мы это делали на семинаре), а затем засунуть в Dataloader (тоже делали на семинаре)."
      ]
    },
    {
      "cell_type": "code",
      "execution_count": null,
      "metadata": {
        "id": "dVRcNLp5NXoy"
      },
      "outputs": [],
      "source": [
        "import torch\n",
        "import torchvision\n",
        "from torch import nn\n",
        "import os\n",
        "from torchvision.datasets import MNIST\n",
        "import torchvision.transforms as transforms\n",
        "import tqdm\n",
        "from torch.utils.data import Dataset\n",
        "from torchvision import datasets\n",
        "from torchvision.transforms import ToTensor, Normalize, Lambda"
      ]
    },
    {
      "cell_type": "code",
      "execution_count": null,
      "metadata": {
        "colab": {
          "base_uri": "https://localhost:8080/"
        },
        "id": "u6GRNGWZP6QU",
        "outputId": "9b470c3a-0646-47d9-f8c4-a75a2563d4f5"
      },
      "outputs": [
        {
          "data": {
            "text/plain": [
              "False"
            ]
          },
          "execution_count": 49,
          "metadata": {},
          "output_type": "execute_result"
        }
      ],
      "source": [
        "torch.cuda.is_available()"
      ]
    },
    {
      "cell_type": "code",
      "execution_count": null,
      "metadata": {
        "colab": {
          "base_uri": "https://localhost:8080/"
        },
        "id": "xA5yUovQNewc",
        "outputId": "61e5ea43-1371-48a7-e828-d8ba056ad9f9"
      },
      "outputs": [
        {
          "data": {
            "text/plain": [
              "(5, 2)"
            ]
          },
          "execution_count": 50,
          "metadata": {},
          "output_type": "execute_result"
        }
      ],
      "source": [
        "import torch\n",
        "from torch.utils.data import Dataset, DataLoader\n",
        "\n",
        "class SleepDs(Dataset):\n",
        "    def __init__(self, X, Y):# конструктор на вход получает признаки и целевую переменную\n",
        "        self.X = X.reset_index(drop=True)  #избавляемся от индексов\n",
        "        self.Y = Y.reset_index(drop=True) #чтобы избежать проблем с несовпадением индексов в выборках.\n",
        "\n",
        "    def __len__(self):#кол-во пакетов\n",
        "        return len(self.X)\n",
        "\n",
        "    def __getitem__(self, idx): #возвращает признаки и целевое значение для индекса\n",
        "        features = torch.tensor(self.X.iloc[idx].values, dtype=torch.float32)\n",
        "        target = torch.tensor(self.Y.iloc[idx], dtype=torch.float32)\n",
        "        return features, target\n",
        "\n",
        "train_dataset = SleepDs(X_train, y_train)\n",
        "test_dataset = SleepDs(X_test, y_test)\n",
        "\n",
        "train_loader = DataLoader(train_dataset, batch_size=64, shuffle=True)\n",
        "test_loader = DataLoader(test_dataset, batch_size=64, shuffle=False)\n",
        "\n",
        "len(train_loader), len(test_loader)\n"
      ]
    },
    {
      "cell_type": "markdown",
      "metadata": {
        "id": "RZkEvVr06aek"
      },
      "source": [
        "5. Обучение на тестовом множестве."
      ]
    },
    {
      "cell_type": "markdown",
      "metadata": {
        "id": "naXPMgyp6rPr"
      },
      "source": [
        "Очень простую однослойную нейросеть с оптимизатором SGD"
      ]
    },
    {
      "cell_type": "code",
      "execution_count": null,
      "metadata": {
        "id": "blYkRMI26sCN"
      },
      "outputs": [],
      "source": [
        "import torch.nn as nn\n",
        "import torch.optim as optim\n",
        "\n",
        "class Net1(nn.Module):\n",
        "    def __init__(self, input_size, num_classes):\n",
        "        super(Net1, self).__init__() #инициализация базового класса\n",
        "        self.fc = nn.Linear(input_size, num_classes) #создаем первый линейный слой\n",
        "\n",
        "    def forward(self, x):\n",
        "        return self.fc(x) #возвращает предсказания\n",
        "\n",
        "# Параметры\n",
        "num_epochs = 100\n",
        "learning_rate_1 = 0.001\n",
        "train_losses_a = []\n",
        "test_losses_a = []\n",
        "#Инициализация\n",
        "model_a = Net1(input_size=X_train.shape[1], num_classes=len(Y.unique()))\n",
        "criterion_a = nn.CrossEntropyLoss() #функция потерь для Классификации\n",
        "optimizer_a = optim.SGD(model_a.parameters(), lr=learning_rate_1)\n",
        "\n",
        "\n",
        "for epoch in range(num_epochs):\n",
        "    model_a.train()\n",
        "    running_loss = 0.0\n",
        "    for batch_features, batch_targets in train_loader:\n",
        "        optimizer_a.zero_grad() #обнуление градиента\n",
        "        batch_targets = batch_targets.type(torch.long) #чтобы не ругался приведение типов\n",
        "        outputs = model_a(batch_features) #предсказания для пакета\n",
        "        loss = criterion_a(outputs, batch_targets) # вычисление ошибки между predictions и real\n",
        "        loss.backward() #подсчет градиента\n",
        "        optimizer_a.step() #обновляет параметры модели\n",
        "        running_loss += loss.item() #накопление ошибки\n",
        "    train_loss = running_loss / len(train_loader)\n",
        "    train_losses_a.append(train_loss)\n",
        "\n",
        "    model_a.eval() #оценивание модели\n",
        "    test_running_loss = 0.0\n",
        "\n",
        "    with torch.no_grad(): #отключаем градиент, меньше расход памяти\n",
        "        for batch_features, batch_targets in test_loader:\n",
        "            batch_targets = batch_targets.type(torch.long)\n",
        "            outputs = model_a(batch_features) #получение предсказаний\n",
        "            loss = criterion_a(outputs, batch_targets) #вычисление потерь для итерации\n",
        "            test_running_loss += loss.item() #накопление потерь\n",
        "\n",
        "    test_loss = test_running_loss / len(test_loader)\n",
        "    test_losses_a.append(test_loss)\n"
      ]
    },
    {
      "cell_type": "markdown",
      "metadata": {
        "id": "t6IbZ9YT6ujT"
      },
      "source": [
        "Нейросеть посложнее (с 1 скрытым слоем) с оптимизатором Adam"
      ]
    },
    {
      "cell_type": "code",
      "execution_count": null,
      "metadata": {
        "colab": {
          "base_uri": "https://localhost:8080/"
        },
        "id": "Hl2hYXSv6wsc",
        "outputId": "faf84813-f998-4bd2-f5c3-87937a0c6f7a"
      },
      "outputs": [
        {
          "name": "stdout",
          "output_type": "stream",
          "text": [
            "11\n"
          ]
        }
      ],
      "source": [
        "class Net2(nn.Module):\n",
        "    def __init__(self, input_size, hidden_size, num_classes):\n",
        "        super(Net2, self).__init__()\n",
        "        self.fc1 = nn.Linear(input_size, hidden_size)# вход--скрытый слой\n",
        "        self.relu = nn.ReLU() #обнуляет отрицательные для внедрения нелинейности\n",
        "        self.fc2 = nn.Linear(hidden_size, num_classes)# скрытый слой--выход\n",
        "\n",
        "    def forward(self, x):#как данные проходят через сеть\n",
        "        x = self.fc1(x)\n",
        "        x = self.relu(x)\n",
        "        x = self.fc2(x)\n",
        "        return x\n",
        "\n",
        "\n",
        "num_epochs = 100\n",
        "learning_rate_2 = 0.001\n",
        "train_losses_b = []\n",
        "test_losses_b = []\n",
        "print(X_train.shape[1])\n",
        "model_b = Net2(input_size=X_train.shape[1], hidden_size=64, num_classes=len(Y.unique()))\n",
        "criterion_b = nn.CrossEntropyLoss()\n",
        "optimizer_b = optim.Adam(model_b.parameters(), lr=learning_rate_2)\n",
        "\n",
        "for epoch in range(num_epochs):\n",
        "    model_b.train()\n",
        "    running_loss = 0.0\n",
        "    for batch_features, batch_targets in train_loader:\n",
        "        optimizer_b.zero_grad()\n",
        "        batch_targets = batch_targets.type(torch.long)\n",
        "        outputs = model_b(batch_features)\n",
        "        loss = criterion_b(outputs, batch_targets)\n",
        "        loss.backward()\n",
        "        optimizer_b.step()\n",
        "        running_loss += loss.item()\n",
        "    train_loss = running_loss / len(train_loader)\n",
        "    train_losses_b.append(train_loss)\n",
        "    model_b.eval()\n",
        "    test_running_loss = 0.0\n",
        "\n",
        "    with torch.no_grad():\n",
        "        for batch_features, batch_targets in test_loader:\n",
        "            batch_targets = batch_targets.type(torch.long)\n",
        "            outputs = model_b(batch_features)\n",
        "            loss = criterion_b(outputs, batch_targets)\n",
        "            test_running_loss += loss.item()\n",
        "\n",
        "    test_loss = test_running_loss / len(test_loader)\n",
        "    test_losses_b.append(test_loss)\n",
        "\n"
      ]
    },
    {
      "cell_type": "markdown",
      "metadata": {
        "id": "gNYbcaz66yuI"
      },
      "source": [
        "Нейросеть еще сложнее (с 3+ скрытыми слоями) с оптимизатором Adam"
      ]
    },
    {
      "cell_type": "code",
      "execution_count": null,
      "metadata": {
        "id": "ao0vwnQe61Gz"
      },
      "outputs": [],
      "source": [
        "class Net3(nn.Module):\n",
        "    def __init__(self, input_size, hidden_sizes, num_classes):\n",
        "        super(Net3, self).__init__()\n",
        "        self.layers = nn.ModuleList()#контейнер хранения слоёв\n",
        "        self.layers.append(nn.Linear(input_size, hidden_sizes[0])) # 1 скрытый слой\n",
        "        for i in range(1, len(hidden_sizes)): # Скрытые слои\n",
        "            self.layers.append(nn.Linear(hidden_sizes[i-1], hidden_sizes[i]))\n",
        "        self.layers.append(nn.Linear(hidden_sizes[-1], num_classes)) # Последний слой\n",
        "        self.relu = nn.ReLU()#обнуляет отрицательные для внедрения нелинейности\n",
        "\n",
        "    def forward(self, x):\n",
        "        for layer in self.layers[:-1]:  # Применяем обнуление отрицательных ко всем слоям кроме последнего\n",
        "            x = self.relu(layer(x))\n",
        "        x = self.layers[-1](x)  #последний слой\n",
        "        return x\n",
        "\n",
        "\n",
        "num_epochs = 100\n",
        "learning_rate_3 = 0.001\n",
        "train_losses_c = []\n",
        "test_losses_c = []\n",
        "\n",
        "hidden_sizes_c = [128, 64, 32]\n",
        "model_c = Net3(input_size=X_train.shape[1], hidden_sizes=hidden_sizes_c, num_classes=len(Y.unique()))\n",
        "criterion_c = nn.CrossEntropyLoss()\n",
        "optimizer_c = optim.Adam(model_c.parameters(), lr=learning_rate_3)\n",
        "\n",
        "for epoch in range(num_epochs):\n",
        "    model_c.train()\n",
        "    running_loss = 0.0\n",
        "    for batch_features, batch_targets in train_loader:\n",
        "        optimizer_c.zero_grad()\n",
        "        batch_targets = batch_targets.type(torch.long)\n",
        "        outputs = model_c(batch_features)\n",
        "        loss = criterion_c(outputs, batch_targets)\n",
        "        loss.backward()\n",
        "        optimizer_c.step()\n",
        "        running_loss += loss.item()\n",
        "    train_loss = running_loss / len(train_loader)\n",
        "    train_losses_c.append(train_loss)\n",
        "    model_c.eval()\n",
        "    test_running_loss = 0.0\n",
        "\n",
        "    with torch.no_grad():\n",
        "        for batch_features, batch_targets in test_loader:\n",
        "            batch_targets = batch_targets.type(torch.long)\n",
        "            outputs = model_c(batch_features)\n",
        "            loss = criterion_c(outputs, batch_targets)\n",
        "            test_running_loss += loss.item()\n",
        "\n",
        "    test_loss = test_running_loss / len(test_loader)\n",
        "    test_losses_c.append(test_loss)"
      ]
    },
    {
      "cell_type": "markdown",
      "metadata": {
        "id": "ogpvCboq63Fu"
      },
      "source": [
        "6. Подсчёт loss и построение кривой модели обучения"
      ]
    },
    {
      "cell_type": "code",
      "execution_count": null,
      "metadata": {
        "colab": {
          "base_uri": "https://localhost:8080/",
          "height": 564
        },
        "id": "ye4W_cKS7IkL",
        "outputId": "abcab9d7-3f40-441d-93fb-3e6ca83ea6a0"
      },
      "outputs": [
        {
          "data": {
            "image/png": "[encoded data removed]",
            "text/plain": [
              "<Figure size 1200x600 with 1 Axes>"
            ]
          },
          "metadata": {},
          "output_type": "display_data"
        }
      ],
      "source": [
        "plt.figure(figsize=(12 ,6 ))\n",
        "plt.plot(train_losses_a,label='Train Loss SGD', color='red')\n",
        "plt.plot(test_losses_a,label='Test Loss SGD', color='blue')\n",
        "plt.plot(train_losses_b,label='Train Loss Adam 1', color='green')\n",
        "plt.plot(test_losses_b,label='Test Loss Adam 1', color='yellow')\n",
        "plt.plot(train_losses_c,label='Train Loss Adam 2', color='black')\n",
        "plt.plot(test_losses_c,label='Test Loss Adam 2', color='darkgreen')\n",
        "\n",
        "plt.title('Learning Curves')\n",
        "plt.xlabel('Epochs')\n",
        "plt.ylabel('Loss')\n",
        "plt.legend()\n",
        "plt.grid()\n",
        "plt.show()"
      ]
    },
    {
      "cell_type": "markdown",
      "metadata": {
        "id": "Z_5BXsOjY7w2"
      },
      "source": [
        "7. Подсчёт метрик"
      ]
    },
    {
      "cell_type": "code",
      "execution_count": null,
      "metadata": {
        "colab": {
          "base_uri": "https://localhost:8080/"
        },
        "id": "T1oHhi3PY75H",
        "outputId": "a5371708-394f-4737-bad4-71c1bac0aeaf"
      },
      "outputs": [
        {
          "name": "stdout",
          "output_type": "stream",
          "text": [
            "Accuracy Model A - Train: 0.77, Test: 0.77\n",
            "Accuracy Model B - Train: 0.89, Test: 0.91\n",
            "Accuracy Model C - Train: 0.93, Test: 0.93\n"
          ]
        }
      ],
      "source": [
        "def calculate_accuracy(model):\n",
        "    model.eval()  #режим оценки\n",
        "    with torch.no_grad(): #отключаем градиент, так как идет только оценка\n",
        "        correct_train = 0\n",
        "        total_train = 0\n",
        "\n",
        "        for batch_features, batch_targets in train_loader: #цикл по батчам\n",
        "            outputs_train = model(batch_features) #предсказывание\n",
        "            _, predicted_train = torch.max(outputs_train.data, 1) #наиболее вероятное предсказание\n",
        "            total_train += batch_targets.size(0)\n",
        "            correct_train += (predicted_train == batch_targets).sum().item()\n",
        "\n",
        "        accuracy_train = correct_train / total_train\n",
        "\n",
        "        correct_test = 0\n",
        "        total_test = 0\n",
        "\n",
        "        for batch_features_test, batch_targets_test in test_loader:\n",
        "            outputs_test = model(batch_features_test)\n",
        "            _, predicted_test = torch.max(outputs_test.data ,1)\n",
        "            total_test += batch_targets_test.size(0)\n",
        "            correct_test += (predicted_test == batch_targets_test).sum().item()\n",
        "\n",
        "        accuracy_test= correct_test / total_test\n",
        "\n",
        "    return accuracy_train, accuracy_test\n",
        "\n",
        "accuracy_a_train, accuracy_a_test= calculate_accuracy(model_a)\n",
        "accuracy_b_train, accuracy_b_test= calculate_accuracy(model_b)\n",
        "accuracy_c_train, accuracy_c_test= calculate_accuracy(model_c)\n",
        "\n",
        "print(f'Accuracy Model A - Train: {accuracy_a_train:.2f}, Test: {accuracy_a_test:.2f}')\n",
        "print(f'Accuracy Model B - Train: {accuracy_b_train:.2f}, Test: {accuracy_b_test:.2f}')\n",
        "print(f'Accuracy Model C - Train: {accuracy_c_train:.2f}, Test: {accuracy_c_test:.2f}')"
      ]
    },
    {
      "cell_type": "markdown",
      "metadata": {
        "id": "DG_vV-Tpi-xC"
      },
      "source": [
        "8. Валидация"
      ]
    },
    {
      "cell_type": "markdown",
      "metadata": {
        "id": "FrLwimOcjCoW"
      },
      "source": [
        "1. Модель C справилась лучше всех, показав высокий результат и стабильность на test и train."
      ]
    },
    {
      "cell_type": "markdown",
      "metadata": {
        "id": "2-fPfYbej5li"
      },
      "source": [
        "2. Так как есть разрыв между train test, модель B имеет перееобучение."
      ]
    },
    {
      "cell_type": "markdown",
      "metadata": {
        "id": "Y4-MDyz3kH8q"
      },
      "source": [
        "3. Нет не имеет."
      ]
    },
    {
      "cell_type": "markdown",
      "metadata": {
        "id": "vrJx4C68kVc5"
      },
      "source": [
        "4. Изменить гиперпараметры, увеличить сложность модели."
      ]
    }
  ],
  "metadata": {
    "accelerator": "GPU",
    "colab": {
      "gpuType": "T4",
      "provenance": [],
      "include_colab_link": true
    },
    "kernelspec": {
      "display_name": "Python 3",
      "name": "python3"
    },
    "language_info": {
      "name": "python"
    }
  },
  "nbformat": 4,
  "nbformat_minor": 0
}