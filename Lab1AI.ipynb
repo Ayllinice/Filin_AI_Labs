{
  "nbformat": 4,
  "nbformat_minor": 0,
  "metadata": {
    "colab": {
      "provenance": [],
      "authorship_tag": "ABX9TyOMR4ySde4AVI8UBxC+U2ZW",
      "include_colab_link": true
    },
    "kernelspec": {
      "name": "python3",
      "display_name": "Python 3"
    },
    "language_info": {
      "name": "python"
    }
  },
  "cells": [
    {
      "cell_type": "markdown",
      "metadata": {
        "id": "view-in-github",
        "colab_type": "text"
      },
      "source": [
        "<a href=\"https://colab.research.google.com/github/Ayllinice/Filin_AI_Labs/blob/main/Lab1AI.ipynb\" target=\"_parent\"><img src=\"https://colab.research.google.com/assets/colab-badge.svg\" alt=\"Open In Colab\"/></a>"
      ]
    },
    {
      "cell_type": "markdown",
      "source": [
        "# Лабораторная №1   \n",
        "Филин Илья Александрович\n",
        " БИВТ-22-СП-4\n",
        "\n",
        "---\n",
        "\n"
      ],
      "metadata": {
        "id": "t4HWW5uynqCj"
      }
    },
    {
      "cell_type": "markdown",
      "source": [
        "# 1. Базовые типы переменных"
      ],
      "metadata": {
        "id": "mSlu3DCOnhjG"
      }
    },
    {
      "cell_type": "code",
      "execution_count": null,
      "metadata": {
        "id": "WrwWGNqkvaKm"
      },
      "outputs": [],
      "source": [
        "int_variable = 25  # int\n",
        "assert isinstance(int_variable, int)\n",
        "\n",
        "float_variable = 0.314  # float\n",
        "assert isinstance(float_variable, float)\n",
        "\n",
        "string_variable = \"JavaRush\"  # string\n",
        "assert isinstance(string_variable, str)\n",
        "\n",
        "bool_variable = True  # bool\n",
        "assert isinstance(bool_variable, bool)"
      ]
    },
    {
      "cell_type": "code",
      "source": [
        "list_variable = [25, 0.314, \"JaveRush\", True] # list\n",
        "print(list_variable[3])\n",
        "assert isinstance(list_variable, list)\n",
        "\n",
        "tuple_variable = (25, 0.314, \"JaveRush\", True)  # tuple\n",
        "print(tuple_variable[2])\n",
        "assert isinstance(tuple_variable, tuple)\n",
        "\n",
        "set_variable = {1, 2, 3, 3, 3, 2} #set\n",
        "print(\"set_variable =\", *set_variable)\n",
        "assert isinstance(set_variable, set)\n",
        "\n",
        "dict_variable = {\"name\": \"Alice\",\"surname\": \"Cooper\", \"age\": 25}  # dict\n",
        "print(dict_variable.get(\"name\"), dict_variable.get(\"surname\"))\n",
        "assert isinstance(dict_variable, dict)"
      ],
      "metadata": {
        "colab": {
          "base_uri": "https://localhost:8080/"
        },
        "id": "K7m2Omxoz-QK",
        "outputId": "fffbe7e7-e248-4154-a13e-0db31da8539c"
      },
      "execution_count": null,
      "outputs": [
        {
          "output_type": "stream",
          "name": "stdout",
          "text": [
            "True\n",
            "JaveRush\n",
            "set_variable = 1 2 3\n",
            "Alice Cooper\n"
          ]
        }
      ]
    },
    {
      "cell_type": "markdown",
      "source": [
        "# 2.1 Различные функции\n"
      ],
      "metadata": {
        "id": "t4eci8nqnWi2"
      }
    },
    {
      "cell_type": "code",
      "source": [
        "def difference_of_two_numbers(first, second):\n",
        "   return abs(first - second)\n",
        "\n",
        "\n",
        "assert difference_of_two_numbers(2, 1) == 1\n",
        "assert difference_of_two_numbers(4, 1) == 3\n",
        "assert difference_of_two_numbers(10, 0) == 10\n",
        "assert difference_of_two_numbers(-5, -6) == 1\n",
        "print(difference_of_two_numbers(-5, -6))"
      ],
      "metadata": {
        "colab": {
          "base_uri": "https://localhost:8080/"
        },
        "id": "24y27Ppa5XR7",
        "outputId": "30c81096-5cc9-40b2-e417-9a043745c178"
      },
      "execution_count": null,
      "outputs": [
        {
          "output_type": "stream",
          "name": "stdout",
          "text": [
            "1\n"
          ]
        }
      ]
    },
    {
      "cell_type": "code",
      "source": [
        "def condition_function(input_number):\n",
        "    if input_number <= 0:\n",
        "       input_number *= 2\n",
        "    elif 0 < input_number <= 10:\n",
        "       input_number *= 3\n",
        "    else:\n",
        "       input_number /= 10\n",
        "    return input_number\n",
        "    \"\"\"\n",
        "    Если входное число меньше либо равно 0, то умножить его на 2.\n",
        "    В противном случае, если число больше 0, но меньше или равно 10, умножить на 3.\n",
        "    Во всех прочих случаях поделить на 10.\n",
        "    \"\"\"\n",
        "    # TODO: напиши меня\n",
        "\n",
        "\n",
        "assert condition_function(0) == 0\n",
        "assert condition_function(-1) == -2\n",
        "assert condition_function(1) == 3\n",
        "assert condition_function(10) == 30\n",
        "assert condition_function(11) == 1.1\n",
        "assert condition_function(20) == 2"
      ],
      "metadata": {
        "id": "6Gya0_yu6UCE"
      },
      "execution_count": null,
      "outputs": []
    },
    {
      "cell_type": "code",
      "source": [
        "def calculator(number_1, operation, number_2):\n",
        "    if operation == \"+\":\n",
        "      answ = number_1 + number_2\n",
        "    if operation == \"-\":\n",
        "      answ = number_1 - number_2\n",
        "    if operation == \"*\":\n",
        "      answ = number_1 * number_2\n",
        "    if operation == \"/\":\n",
        "      answ = number_1 / number_2\n",
        "    return answ\n",
        "    \"\"\"\n",
        "    Простой оператор, способный выполнять операции +, -, *, /.\n",
        "    На входе первое число, операция в виде строки и второе число.\n",
        "\n",
        "    Пример:\n",
        "    >>> calculator(1, \"+\", 1)\n",
        "    >>> 2\n",
        "    \"\"\"\n",
        "    # TODO: напиши меня\n",
        "\n",
        "\n",
        "assert calculator(1, \"+\", 2) == 3\n",
        "assert calculator(3, \"-\", 1) == 2\n",
        "assert calculator(4, \"*\", 3) == 12\n",
        "assert calculator(2, \"/\", 2) == 1\n",
        "print(calculator(1, \"/\", 0))"
      ],
      "metadata": {
        "colab": {
          "base_uri": "https://localhost:8080/",
          "height": 298
        },
        "id": "vxl6ENpQBMKG",
        "outputId": "087fa8af-2550-46c2-a757-407a6ae5e7d8"
      },
      "execution_count": null,
      "outputs": [
        {
          "output_type": "error",
          "ename": "ZeroDivisionError",
          "evalue": "division by zero",
          "traceback": [
            "\u001b[0;31m---------------------------------------------------------------------------\u001b[0m",
            "\u001b[0;31mZeroDivisionError\u001b[0m                         Traceback (most recent call last)",
            "\u001b[0;32m<ipython-input-57-16ad6302711b>\u001b[0m in \u001b[0;36m<cell line: 26>\u001b[0;34m()\u001b[0m\n\u001b[1;32m     24\u001b[0m \u001b[0;32massert\u001b[0m \u001b[0mcalculator\u001b[0m\u001b[0;34m(\u001b[0m\u001b[0;36m4\u001b[0m\u001b[0;34m,\u001b[0m \u001b[0;34m\"*\"\u001b[0m\u001b[0;34m,\u001b[0m \u001b[0;36m3\u001b[0m\u001b[0;34m)\u001b[0m \u001b[0;34m==\u001b[0m \u001b[0;36m12\u001b[0m\u001b[0;34m\u001b[0m\u001b[0;34m\u001b[0m\u001b[0m\n\u001b[1;32m     25\u001b[0m \u001b[0;32massert\u001b[0m \u001b[0mcalculator\u001b[0m\u001b[0;34m(\u001b[0m\u001b[0;36m2\u001b[0m\u001b[0;34m,\u001b[0m \u001b[0;34m\"/\"\u001b[0m\u001b[0;34m,\u001b[0m \u001b[0;36m2\u001b[0m\u001b[0;34m)\u001b[0m \u001b[0;34m==\u001b[0m \u001b[0;36m1\u001b[0m\u001b[0;34m\u001b[0m\u001b[0;34m\u001b[0m\u001b[0m\n\u001b[0;32m---> 26\u001b[0;31m \u001b[0mprint\u001b[0m\u001b[0;34m(\u001b[0m\u001b[0mcalculator\u001b[0m\u001b[0;34m(\u001b[0m\u001b[0;36m1\u001b[0m\u001b[0;34m,\u001b[0m \u001b[0;34m\"/\"\u001b[0m\u001b[0;34m,\u001b[0m \u001b[0;36m0\u001b[0m\u001b[0;34m)\u001b[0m\u001b[0;34m)\u001b[0m\u001b[0;34m\u001b[0m\u001b[0;34m\u001b[0m\u001b[0m\n\u001b[0m",
            "\u001b[0;32m<ipython-input-57-16ad6302711b>\u001b[0m in \u001b[0;36mcalculator\u001b[0;34m(number_1, operation, number_2)\u001b[0m\n\u001b[1;32m      7\u001b[0m       \u001b[0mansw\u001b[0m \u001b[0;34m=\u001b[0m \u001b[0mnumber_1\u001b[0m \u001b[0;34m*\u001b[0m \u001b[0mnumber_2\u001b[0m\u001b[0;34m\u001b[0m\u001b[0;34m\u001b[0m\u001b[0m\n\u001b[1;32m      8\u001b[0m     \u001b[0;32mif\u001b[0m \u001b[0moperation\u001b[0m \u001b[0;34m==\u001b[0m \u001b[0;34m\"/\"\u001b[0m\u001b[0;34m:\u001b[0m\u001b[0;34m\u001b[0m\u001b[0;34m\u001b[0m\u001b[0m\n\u001b[0;32m----> 9\u001b[0;31m       \u001b[0mansw\u001b[0m \u001b[0;34m=\u001b[0m \u001b[0mnumber_1\u001b[0m \u001b[0;34m/\u001b[0m \u001b[0mnumber_2\u001b[0m\u001b[0;34m\u001b[0m\u001b[0;34m\u001b[0m\u001b[0m\n\u001b[0m\u001b[1;32m     10\u001b[0m     \u001b[0;32mreturn\u001b[0m \u001b[0mansw\u001b[0m\u001b[0;34m\u001b[0m\u001b[0;34m\u001b[0m\u001b[0m\n\u001b[1;32m     11\u001b[0m     \"\"\"\n",
            "\u001b[0;31mZeroDivisionError\u001b[0m: division by zero"
          ]
        }
      ]
    },
    {
      "cell_type": "code",
      "source": [
        "def number_of_unique_elements(input_list):\n",
        "    \"\"\"\n",
        "    Считает количество уникальных элементов в листе.\n",
        "    \"\"\"\n",
        "    unique = list(set(input_list))\n",
        "    c = len(unique)\n",
        "    return c\n",
        "\n",
        "\n",
        "assert number_of_unique_elements([1, 2, 3]) == 3\n",
        "assert number_of_unique_elements([1] * 93) == 1\n",
        "assert number_of_unique_elements(list(range(1000))) == 1000"
      ],
      "metadata": {
        "id": "J8_ChgWcChgl"
      },
      "execution_count": null,
      "outputs": []
    },
    {
      "cell_type": "code",
      "source": [
        "def counter(input_list):\n",
        "    \"\"\"\n",
        "    Считает количество вхождений каждого из элементов листа.\n",
        "    Возвращает словарь вида {число: количество вхождений}\n",
        "\n",
        "    Замечание (!): встроенным в collections Counter'ом пользоваться нельзя\n",
        "\n",
        "    Например:\n",
        "    counter([1, 1, 2, 3]) вернет {1: 2, 2: 1, 3: 1}\n",
        "    \"\"\"\n",
        "    input_list.sort()\n",
        "    mydict = {}\n",
        "    count = 1\n",
        "    for i in range(len(input_list)- 1):\n",
        "        if input_list[i] == input_list[i + 1]:\n",
        "            count += 1\n",
        "            mydict[input_list[i]] = count\n",
        "        else:\n",
        "            mydict[input_list[i]] = count\n",
        "            count = 1\n",
        "        mydict[input_list[-1]] = count\n",
        "    return mydict\n",
        "\n",
        "assert counter([1, 1, 1, 2, 3]) == {1: 3, 2: 1, 3: 1}\n",
        "assert counter([1] * 1000) == {1: 1000}\n",
        "assert counter([1, 3, 5] * 100) == {1: 100, 3: 100, 5: 100}"
      ],
      "metadata": {
        "id": "E1NGXRYcFm6U"
      },
      "execution_count": null,
      "outputs": []
    },
    {
      "cell_type": "code",
      "source": [
        "def multiply_nums(input_string):\n",
        "    \"\"\"\n",
        "    Перемножить числа, переданные в строке, перечисленные через запятую.\n",
        "\n",
        "    hint: можно использовать метод .split()\n",
        "    \"\"\"\n",
        "    input_string = list(map(int, input_string.split(', ')))\n",
        "    result = 1\n",
        "    for i in input_string:\n",
        "      result *= i\n",
        "    return result\n",
        "\n",
        "\n",
        "assert multiply_nums(\"2, 3\") == 6\n",
        "assert multiply_nums(\"1, 1, 1, 1, 1, 1, 1\") == 1\n",
        "assert multiply_nums(\"345, 4576, 794, 325, 0\") == 0"
      ],
      "metadata": {
        "id": "WMaEaRuUDJl-"
      },
      "execution_count": null,
      "outputs": []
    },
    {
      "cell_type": "code",
      "source": [
        "import math\n",
        "\n",
        "def custom_function(x):\n",
        "    \"\"\"\n",
        "    Реализуйте функцию, описанную выше.\n",
        "    \"\"\"\n",
        "    y = math.sin(x) * math.cos(x)\n",
        "    return y\n",
        "\n",
        "assert round(custom_function(1), 3) == 0.455\n",
        "assert round(custom_function(1.5), 3) == 0.071\n",
        "assert round(custom_function(2), 3) == -0.378\n",
        "assert custom_function(0) == 0"
      ],
      "metadata": {
        "id": "lFi3z2rVHdNp"
      },
      "execution_count": null,
      "outputs": []
    },
    {
      "cell_type": "code",
      "source": [
        "import math\n",
        "\n",
        "\n",
        "def custom_function_1(x, n):\n",
        "    \"\"\"\n",
        "    Реализуйте функцию, описанную выше.\n",
        "    \"\"\"\n",
        "    result = 1\n",
        "    for i in range(1, n + 1):\n",
        "      result *= (((i + 2)**x + math.log(x)) / (x**2 + 4 * i))\n",
        "    return result\n",
        "\n",
        "\n",
        "assert round(custom_function_1(2, 3), 3) == 2.707\n",
        "assert round(custom_function_1(3, 2), 3) == 8.277\n",
        "assert round(custom_function_1(3, 3), 3) == 49.7"
      ],
      "metadata": {
        "id": "w8r_CL-PIgUO"
      },
      "execution_count": null,
      "outputs": []
    },
    {
      "cell_type": "markdown",
      "source": [
        "\n",
        "# 2.2 Задачки на написание функций\n"
      ],
      "metadata": {
        "id": "a_ik3YfQnGMe"
      }
    },
    {
      "cell_type": "code",
      "source": [
        "# Ваша задача здесь написать функцию time_converter (именно такое название)\n",
        "# она должна возвращать значения в виде строки 'hours minutes'\n",
        "def time_converter(n):\n",
        "  h = n // 60\n",
        "  if h >= 24:\n",
        "    h = h % 24\n",
        "  m = n % 60\n",
        "  result = (f'{h} {m}')\n",
        "  return result\n",
        "\n",
        "\n",
        "assert time_converter(2782) == '22 22'\n",
        "assert time_converter(4733) == '6 53'\n",
        "assert time_converter(1766) == '5 26'\n",
        "assert time_converter(3865) == '16 25'\n",
        "assert time_converter(4628) == '5 8'\n",
        "assert time_converter(4353) == '0 33'\n",
        "assert time_converter(268) == '4 28'\n",
        "assert time_converter(4373) == '0 53'\n",
        "assert time_converter(2722) == '21 22'\n",
        "assert time_converter(1531) == '1 31'"
      ],
      "metadata": {
        "id": "ZbZZQMR4LPJ3"
      },
      "execution_count": null,
      "outputs": []
    },
    {
      "cell_type": "code",
      "source": [
        "# Написать функцию min_of_three_values, принимает на вход 3 аргумента\n",
        "def min_of_three_values(a, b, c):\n",
        "  if a <= b and a <= c:\n",
        "    res = a\n",
        "  if b <= a and b <= c:\n",
        "    res = b\n",
        "  if c <= a and c <= b:\n",
        "    res = c\n",
        "  return res\n",
        "\n",
        "\n",
        "assert min_of_three_values(1, 2, 3) == 1\n",
        "assert min_of_three_values(1, 1, 9) == 1\n",
        "assert min_of_three_values(18, 7, 11) == 7\n",
        "assert min_of_three_values(2, 10, 10) == 2\n",
        "assert min_of_three_values(17, 14, 17) == 14\n",
        "assert min_of_three_values(9, 2, 10) == 2\n",
        "assert min_of_three_values(7, 4, 7) == 4\n",
        "assert min_of_three_values(0, 8, 3) == 0\n",
        "assert min_of_three_values(8, 10, 6) == 6\n",
        "assert min_of_three_values(1, 4, 8) == 1"
      ],
      "metadata": {
        "id": "jGHnEosfWW8i"
      },
      "execution_count": null,
      "outputs": []
    },
    {
      "cell_type": "code",
      "source": [
        "# Функция remove_symbol принимает два аргумента -- строку и символ, которые необходимо удалить\n",
        "def remove_symbol(s, rep):\n",
        "  return s.replace(rep, '')\n",
        "\n",
        "assert remove_symbol('aaaaaaaa', 'a') == ''\n",
        "assert remove_symbol('abababa', 'b') == 'aaaa'\n",
        "assert remove_symbol('12341234', '3') == '124124'\n",
        "assert remove_symbol('123', '') == '123'\n",
        "assert remove_symbol('', 'a') == ''"
      ],
      "metadata": {
        "id": "Qpdyo22yYFaK"
      },
      "execution_count": null,
      "outputs": []
    },
    {
      "cell_type": "code",
      "source": [
        "# Функция remove_each_third_sym принимает один агрумент -- строку.\n",
        "# важно -- мы считаем человеческие индексы (начиная с 1, а не 0)\n",
        "# важно -- оставляем первый аргумент\n",
        "# Необходимо вернуть новую строку\n",
        "\n",
        "def remove_each_third_sym(s):\n",
        "  result = ''\n",
        "  for i in range(len(s)):\n",
        "    if (i + 1) % 3 != 0:\n",
        "      result += s[i]\n",
        "  return result\n",
        "\n",
        "\n",
        "assert remove_each_third_sym('abcdef') == 'abde'\n",
        "assert remove_each_third_sym('sdfasdfasdfsfa') == 'sdasfadffa'\n",
        "assert remove_each_third_sym('123456789') == '124578'\n",
        "assert remove_each_third_sym('987654321') == '986532'"
      ],
      "metadata": {
        "id": "JbV4qKqiZtTf"
      },
      "execution_count": null,
      "outputs": []
    },
    {
      "cell_type": "code",
      "source": [
        "# Функция find_max принимает на вход лист\n",
        "# на выходе два числа -- непосредственно максимальное значение и его индекс\n",
        "def find_max(l):\n",
        "  maxx = l[0]\n",
        "  index = 0\n",
        "  for i in range(len(l)):\n",
        "      if l[i] > maxx:\n",
        "          maxx = l[i]\n",
        "          index = i\n",
        "  return maxx, index\n",
        "\n",
        "\n",
        "assert find_max([1, 2, 3, 4, 5]) == (5, 4)\n",
        "assert find_max([5, 4, 3, 2, 1]) == (5, 0)\n",
        "assert find_max([96, 82, 72, 48, 93, 88, 79]) == (96, 0)\n",
        "assert find_max([49, 75, 65, 65, 65, 18]) == (75, 1)\n",
        "assert find_max([69, 16, 64, 54, 36, 70, 89, 29]) == (89, 6)\n",
        "assert find_max([17, 80, 27, 36, 21, 85, 63, 27]) == (85, 5)\n",
        "assert find_max([76, 27, 73, 65, 52]) == (76, 0)\n",
        "assert find_max([33, 26, 69, 40, 93]) == (93, 4)\n",
        "assert find_max([87, 5, 95, 52, 21, 76, 22]) == (95, 2)\n",
        "assert find_max([75, 18, 89, 99, 70]) == (99, 3)"
      ],
      "metadata": {
        "id": "c8WSQ174ewTk"
      },
      "execution_count": null,
      "outputs": []
    },
    {
      "cell_type": "code",
      "source": [
        "# функция append_to_list принимает два значения -- лист и значение, которое необходимо вставить в конец листа\n",
        "# функция возвращает обновленный лист\n",
        "def append_to_list(list, value):\n",
        "    list.append(value)\n",
        "    return list\n",
        "\n",
        "\n",
        "assert append_to_list([1, 2], 3) == [1, 2, 3]\n",
        "assert append_to_list([1, 2], None) == [1, 2, None]\n",
        "assert append_to_list([1, 's'], True) == [1, 's', True]"
      ],
      "metadata": {
        "id": "YWbw2sWnhpAs"
      },
      "execution_count": null,
      "outputs": []
    },
    {
      "cell_type": "code",
      "source": [
        "# функция number_unique_elements принимает на вход лист\n",
        "# на выходе одно число -- количество уникальных элементов\n",
        "def number_unique_elements(lst):\n",
        "    return len(list(set(lst)))\n",
        "\n",
        "assert number_unique_elements([1, 2, 3]) == 3\n",
        "assert number_unique_elements([1, 2, 1]) == 2\n",
        "assert number_unique_elements([1, 1, 1, 1]) == 1\n",
        "assert number_unique_elements([1, 2, 1, 2]) == 2"
      ],
      "metadata": {
        "id": "FM67omX-ib3V"
      },
      "execution_count": null,
      "outputs": []
    },
    {
      "cell_type": "markdown",
      "source": [
        "# 3. Классы"
      ],
      "metadata": {
        "id": "0EAvgVYwoDd6"
      }
    },
    {
      "cell_type": "code",
      "source": [
        "class Vehicle:\n",
        "    def __init__(self, max_speed, mileage):\n",
        "      self.max_speed = max_speed\n",
        "      self.mileage = mileage\n",
        "      # TODO\n",
        "\n",
        "\n",
        "\n",
        "veh1 = Vehicle(100, 50)\n",
        "assert (veh1.max_speed, veh1.mileage) == (100, 50)\n",
        "\n",
        "veh2 = Vehicle(200, 3)\n",
        "assert (veh2.max_speed, veh2.mileage) == (200, 3)"
      ],
      "metadata": {
        "id": "u620a6oooICZ"
      },
      "execution_count": null,
      "outputs": []
    },
    {
      "cell_type": "code",
      "source": [
        "class Truck(Vehicle):\n",
        "    pass\n",
        "\n",
        "\n",
        "truck1 = Truck(50, 1000)\n",
        "assert (truck1.max_speed, truck1.mileage) == (50, 1000)\n",
        "\n",
        "truck2 = Truck(43, 235)\n",
        "assert (truck2.max_speed, truck2.mileage) == (43, 235)"
      ],
      "metadata": {
        "id": "FD68sJ1EtPl-"
      },
      "execution_count": null,
      "outputs": []
    },
    {
      "cell_type": "code",
      "source": [
        "class MyList:\n",
        "    def __init__(self, lst):\n",
        "        self.lst = lst  # TODO: напиши меня\n",
        "\n",
        "\n",
        "    def return_sum(self):\n",
        "        \"\"\"\n",
        "        Возвращает сумму всех элементов сохраненного листа.\n",
        "        Пользоваться sum нельзя!\n",
        "        \"\"\"\n",
        "        sum1 = 0\n",
        "        for i in self.lst:\n",
        "          sum1 += int(i) # TODO: напиши меня\n",
        "        return sum1\n",
        "\n",
        "\n",
        "    def make_reverse(self):\n",
        "        \"\"\"\n",
        "        Разворачивает сохраненный лист.\n",
        "        \"\"\"\n",
        "        # TODO: напиши меня\n",
        "        pass\n",
        "\n",
        "    def make_slice(self, start, stop):\n",
        "        \"\"\"\n",
        "        Делает слайсинг сохраненного листа.\n",
        "        \"\"\"\n",
        "        # TODO: напиши меня\n",
        "        pass\n",
        "\n",
        "\n",
        "a = MyList([1, 2, 3, 4])\n",
        "assert a.return_sum() == 10\n",
        "assert a.make_reverse() == [4, 3, 2, 1]\n",
        "assert a.make_slice(0, 2) == [1, 2]\n",
        "\n",
        "b = MyList([5, 6, 6, 5])\n",
        "assert b.return_sum() == 22\n",
        "assert b.make_reverse() == [5, 6, 6, 5]\n",
        "assert b.make_slice(1, 2) == [6]"
      ],
      "metadata": {
        "colab": {
          "base_uri": "https://localhost:8080/",
          "height": 211
        },
        "id": "9LSS_RG3ts4g",
        "outputId": "5b9b7d47-f95e-44ee-9676-48cdefc8a377"
      },
      "execution_count": null,
      "outputs": [
        {
          "output_type": "error",
          "ename": "AssertionError",
          "evalue": "",
          "traceback": [
            "\u001b[0;31m---------------------------------------------------------------------------\u001b[0m",
            "\u001b[0;31mAssertionError\u001b[0m                            Traceback (most recent call last)",
            "\u001b[0;32m<ipython-input-14-397085b538f6>\u001b[0m in \u001b[0;36m<cell line: 34>\u001b[0;34m()\u001b[0m\n\u001b[1;32m     32\u001b[0m \u001b[0ma\u001b[0m \u001b[0;34m=\u001b[0m \u001b[0mMyList\u001b[0m\u001b[0;34m(\u001b[0m\u001b[0;34m[\u001b[0m\u001b[0;36m1\u001b[0m\u001b[0;34m,\u001b[0m \u001b[0;36m2\u001b[0m\u001b[0;34m,\u001b[0m \u001b[0;36m3\u001b[0m\u001b[0;34m,\u001b[0m \u001b[0;36m4\u001b[0m\u001b[0;34m]\u001b[0m\u001b[0;34m)\u001b[0m\u001b[0;34m\u001b[0m\u001b[0;34m\u001b[0m\u001b[0m\n\u001b[1;32m     33\u001b[0m \u001b[0;32massert\u001b[0m \u001b[0ma\u001b[0m\u001b[0;34m.\u001b[0m\u001b[0mreturn_sum\u001b[0m\u001b[0;34m(\u001b[0m\u001b[0;34m)\u001b[0m \u001b[0;34m==\u001b[0m \u001b[0;36m10\u001b[0m\u001b[0;34m\u001b[0m\u001b[0;34m\u001b[0m\u001b[0m\n\u001b[0;32m---> 34\u001b[0;31m \u001b[0;32massert\u001b[0m \u001b[0ma\u001b[0m\u001b[0;34m.\u001b[0m\u001b[0mmake_reverse\u001b[0m\u001b[0;34m(\u001b[0m\u001b[0;34m)\u001b[0m \u001b[0;34m==\u001b[0m \u001b[0;34m[\u001b[0m\u001b[0;36m4\u001b[0m\u001b[0;34m,\u001b[0m \u001b[0;36m3\u001b[0m\u001b[0;34m,\u001b[0m \u001b[0;36m2\u001b[0m\u001b[0;34m,\u001b[0m \u001b[0;36m1\u001b[0m\u001b[0;34m]\u001b[0m\u001b[0;34m\u001b[0m\u001b[0;34m\u001b[0m\u001b[0m\n\u001b[0m\u001b[1;32m     35\u001b[0m \u001b[0;32massert\u001b[0m \u001b[0ma\u001b[0m\u001b[0;34m.\u001b[0m\u001b[0mmake_slice\u001b[0m\u001b[0;34m(\u001b[0m\u001b[0;36m0\u001b[0m\u001b[0;34m,\u001b[0m \u001b[0;36m2\u001b[0m\u001b[0;34m)\u001b[0m \u001b[0;34m==\u001b[0m \u001b[0;34m[\u001b[0m\u001b[0;36m1\u001b[0m\u001b[0;34m,\u001b[0m \u001b[0;36m2\u001b[0m\u001b[0;34m]\u001b[0m\u001b[0;34m\u001b[0m\u001b[0;34m\u001b[0m\u001b[0m\n\u001b[1;32m     36\u001b[0m \u001b[0;34m\u001b[0m\u001b[0m\n",
            "\u001b[0;31mAssertionError\u001b[0m: "
          ]
        }
      ]
    }
  ]
}